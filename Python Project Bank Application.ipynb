{
 "cells": [
  {
   "cell_type": "code",
   "execution_count": 39,
   "metadata": {},
   "outputs": [],
   "source": [
    "#ONLINE BANK APPLICATION\n",
    "data = {\n",
    "    1001:{'name':'Tanshi','password':'saumil2004','bal':5000},\n",
    "    1002:{'name':'Saumil','password':'saumil@2004','bal':10000},\n",
    "    1003:{'name':'Meenakshi','password':'meenu@1966','bal':45000},\n",
    "    1004:{'name':'Deepak','password':'saumil2004','bal':50000}\n",
    "}\n",
    "l=[]\n",
    "def login(acc,password):\n",
    "    if acc in data :\n",
    "        p = data.get(acc).get('password')\n",
    "        if p == password :\n",
    "            print(\"Logged In Succesfully\")\n",
    "            print(f\"Welcome Back User {data.get(acc).get('name')}\")\n",
    "            return True\n",
    "        else :\n",
    "            print(\"Invalid password.....Try Again\")\n",
    "            return False\n",
    "    else :\n",
    "        print(\"\"\"Invalid Account Number......\n",
    "        If you are new...... Open an account by clicking Signup\"\"\")\n",
    "        \n",
    "from getpass import getpass\n",
    "        \n",
    "def mainpage() :\n",
    "    print(\"1.Login\\n2.SignUp\\n3.Exit\")\n",
    "    ch= int(input(\"Enter Your Choice :\"))\n",
    "    if ch==1 :\n",
    "        acc=int(input(\"Enter Account Number :\"))\n",
    "        pas= getpass(\"Password :\")\n",
    "        login(acc,pas)\n",
    "    elif ch == 2 :\n",
    "        acc=int(input(\"Enter Account Number :\")) \n",
    "        name = str(input(\"Enter Name of Account Holder :\"))\n",
    "        password = getpass(\"Enter password :\")\n",
    "        bal = int(input(\"Enter Balance: \"))\n",
    "        print(\"Account added Successfully\")\n",
    "        l.append(acc)\n",
    "        l.append(name)\n",
    "        l.append(password)\n",
    "        l.append(bal )\n",
    "    elif ch == 3 :\n",
    "        print(\"Thank You,Bye Bye\")\n",
    "    else :\n",
    "        print(\"Wrong Choice\")\n",
    "        print(\"The choices you can input is 1,2,3 only\") \n",
    "        "
   ]
  },
  {
   "cell_type": "code",
   "execution_count": 42,
   "metadata": {},
   "outputs": [
    {
     "name": "stdout",
     "output_type": "stream",
     "text": [
      "1.Login\n",
      "2.SignUp\n",
      "3.Exit\n",
      "Enter Your Choice :2\n",
      "Enter Account Number :1007\n",
      "Enter Name of Account Holder :gaurav\n",
      "Enter password :········\n",
      "Enter Balance: 50000\n",
      "Account added Successfully\n"
     ]
    }
   ],
   "source": [
    "mainpage()"
   ]
  },
  {
   "cell_type": "code",
   "execution_count": 43,
   "metadata": {},
   "outputs": [
    {
     "data": {
      "text/plain": [
       "[1006, 'aditi', 'aditi', 60000, 1007, 'gaurav', 'gaurav', 50000]"
      ]
     },
     "execution_count": 43,
     "metadata": {},
     "output_type": "execute_result"
    }
   ],
   "source": [
    "l"
   ]
  },
  {
   "cell_type": "code",
   "execution_count": null,
   "metadata": {},
   "outputs": [],
   "source": [
    "#For automaitc updation in dictionary visit Python folder's Dict_Set_Data_type file."
   ]
  }
 ],
 "metadata": {
  "kernelspec": {
   "display_name": "Python 3",
   "language": "python",
   "name": "python3"
  },
  "language_info": {
   "codemirror_mode": {
    "name": "ipython",
    "version": 3
   },
   "file_extension": ".py",
   "mimetype": "text/x-python",
   "name": "python",
   "nbconvert_exporter": "python",
   "pygments_lexer": "ipython3",
   "version": "3.7.0"
  }
 },
 "nbformat": 4,
 "nbformat_minor": 2
}
